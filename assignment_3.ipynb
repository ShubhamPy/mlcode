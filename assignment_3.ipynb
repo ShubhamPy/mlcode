{
 "cells": [
  {
   "cell_type": "code",
   "execution_count": 12,
   "metadata": {},
   "outputs": [],
   "source": [
    "#question1\n",
    "def prob(a,b,c):\n",
    "    c=(c*b)/a\n",
    "    return c"
   ]
  },
  {
   "cell_type": "markdown",
   "metadata": {},
   "source": [
    "#question2\n",
    "Probability of choosing bag 1 (E1)=Probability of choosing bag 2 (E2) = 1/2\n",
    "Probability of drawing black ball from bag 1= 3/5\n",
    "Probability of drawing black ball from bag 2= 3/7\n",
    "now the probability of drawing the black ball from bag1 = 7/12   (Using Baye's Theorem)\n"
   ]
  },
  {
   "cell_type": "markdown",
   "metadata": {},
   "source": [
    "#question3\n",
    "\n",
    "Probability of occuring no.4 on dice = 1/6\n",
    "\n",
    "Probability of not occuring no.4  on dice = 1-1/6= 5/6\n",
    "\n",
    "Probability of speaking truth= 2/3\n",
    "Probability of not speaking truth= 1-2/3= 1/3\n",
    "\n",
    "now the probablity that no. obtained is actuall a four = 2/7     (Using Baye's Theorem)\n"
   ]
  }
 ],
 "metadata": {
  "celltoolbar": "Raw Cell Format",
  "kernelspec": {
   "display_name": "Python 3",
   "language": "python",
   "name": "python3"
  },
  "language_info": {
   "codemirror_mode": {
    "name": "ipython",
    "version": 3
   },
   "file_extension": ".py",
   "mimetype": "text/x-python",
   "name": "python",
   "nbconvert_exporter": "python",
   "pygments_lexer": "ipython3",
   "version": "3.7.0"
  }
 },
 "nbformat": 4,
 "nbformat_minor": 2
}
